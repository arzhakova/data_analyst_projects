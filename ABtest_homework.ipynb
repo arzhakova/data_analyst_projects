{
 "cells": [
  {
   "cell_type": "markdown",
   "id": "9893e0ab-e672-492e-99b9-dfa56bb8dd17",
   "metadata": {},
   "source": [
    "### Задание:\n",
    "Был проведен эксперимент с 2025-02-21 по 2025-02-27 включительно. Для эксперимента были задействованы 2 и 1 группы. В группе 2 был использован один из новых алгоритмов рекомендации постов (Рекомендации \"похожих на лайкнутые постов\"), группа 1 использовалась в качестве контроля. Основная гипотеза заключается в том, что новый алгоритм во 2-й группе приведет к увеличению CTR. Нужно проанализировать данные А/B-теста."
   ]
  },
  {
   "cell_type": "code",
   "execution_count": 2,
   "id": "e6b6682c-cf60-41d7-b803-2bfd714fef30",
   "metadata": {},
   "outputs": [],
   "source": [
    "import seaborn as sns\n",
    "import scipy.stats as stats\n",
    "import matplotlib.pyplot as plt\n",
    "import numpy as np\n",
    "import pandahouse"
   ]
  },
  {
   "cell_type": "code",
   "execution_count": 3,
   "id": "7475e12d-bf80-4556-9a8c-7a984d16e0fa",
   "metadata": {},
   "outputs": [],
   "source": [
    "connection = {\n",
    "    'host': 'https://clickhouse.lab.karpov.courses',\n",
    "    'password': 'dpo_python_2020',\n",
    "    'user': 'student',\n",
    "    'database': 'simulator_20250320'\n",
    "}\n",
    "\n",
    "q = \"\"\"\n",
    "SELECT exp_group,\n",
    "    user_id,\n",
    "    sum(action = 'like') as likes,\n",
    "    sum(action = 'view') as views,\n",
    "    likes/views as ctr\n",
    "FROM {db}.feed_actions\n",
    "WHERE toDate(time) between '2025-02-21' and '2025-02-27'\n",
    "    and exp_group in (1,2)\n",
    "GROUP BY exp_group, user_id\n",
    "\"\"\"\n",
    "\n",
    "df = pandahouse.read_clickhouse(q, connection=connection)"
   ]
  },
  {
   "cell_type": "code",
   "execution_count": 6,
   "id": "aa67e7a5-3464-4ff5-bee7-a4442bd1b29a",
   "metadata": {
    "tags": []
   },
   "outputs": [
    {
     "data": {
      "text/plain": [
       "exp_group\n",
       "1    10020\n",
       "2     9877\n",
       "Name: count, dtype: int64"
      ]
     },
     "execution_count": 6,
     "metadata": {},
     "output_type": "execute_result"
    }
   ],
   "source": [
    "df.exp_group.value_counts()"
   ]
  },
  {
   "cell_type": "code",
   "execution_count": 5,
   "id": "ba7030cb-fc62-48cb-a6db-01123a9538a2",
   "metadata": {
    "tags": []
   },
   "outputs": [
    {
     "data": {
      "image/png": "[encoded data removed]",
      "text/plain": [
       "<Figure size 432x288 with 1 Axes>"
      ]
     },
     "metadata": {
      "needs_background": "light"
     },
     "output_type": "display_data"
    }
   ],
   "source": [
    "groups = sns.histplot(data = df, \n",
    "              x='ctr', \n",
    "              hue='exp_group', \n",
    "              palette = ['r', 'b'],\n",
    "              alpha=0.5,\n",
    "              kde=False)"
   ]
  },
  {
   "cell_type": "markdown",
   "id": "39bbbe04-fb08-489d-a235-b33cfc91e944",
   "metadata": {},
   "source": [
    "Распределение CTR в группе 2 двумодальное, это означает, что алгоритм по-разному повлиял на подгруппы пользователей."
   ]
  },
  {
   "cell_type": "code",
   "execution_count": 4,
   "id": "e07ad4aa-f11b-43b6-8ee6-afae7dcf542b",
   "metadata": {},
   "outputs": [],
   "source": [
    "group_A = df[df.exp_group == 1].copy()\n",
    "group_B = df[df.exp_group == 2].copy()"
   ]
  },
  {
   "cell_type": "code",
   "execution_count": 10,
   "id": "1ffb2978-c551-4de5-b9da-e83bc6a1ee5f",
   "metadata": {},
   "outputs": [
    {
     "name": "stdout",
     "output_type": "stream",
     "text": [
      "p-value = 0.685373331140751\n"
     ]
    }
   ],
   "source": [
    "#T-тест\n",
    "\n",
    "_, p_value = stats.ttest_ind(group_A.ctr, group_B.ctr, equal_var=False)\n",
    "print(f'p-value = {p_value}')"
   ]
  },
  {
   "cell_type": "markdown",
   "id": "2191989b-7a62-48bd-91f7-c29dd5e0db35",
   "metadata": {},
   "source": [
    "Полученное значение p-value выше 0.05, значит мы не можем отбросить нулевую гипотезу, которая заключается в том, что CTR двух групп равны. Но из графика видно, что CTR в двух группах сильно отличается. Это противоречие возникло из-за нарушения условий применения t-теста — данные экспериментальной группы имеют два пика, а не нормальное распределение. Поэтому t-тест здесь не подходит, и нужны другие методы анализа."
   ]
  },
  {
   "cell_type": "code",
   "execution_count": 12,
   "id": "7872fb97-8bf2-48d9-b372-acaabd40267e",
   "metadata": {},
   "outputs": [
    {
     "name": "stdout",
     "output_type": "stream",
     "text": [
      "p-value = 4.632205841806026e-45\n"
     ]
    }
   ],
   "source": [
    "# Манна-Уитни\n",
    "\n",
    "_, p_value = stats.mannwhitneyu(group_A.ctr, group_B.ctr, alternative = 'two-sided')\n",
    "print(f'p-value = {p_value}')"
   ]
  },
  {
   "cell_type": "markdown",
   "id": "e6444020-b0df-4ca4-9430-9223a2d4d4d9",
   "metadata": {},
   "source": [
    "Тест Манна-Уитни выявил статистически значимые различия в CTR между группами (p < 0.0001). Новый алгоритм существенно повлиял на метрику."
   ]
  },
  {
   "cell_type": "code",
   "execution_count": 11,
   "id": "a9ef8d04-b247-4e52-8423-d01a8c124b5a",
   "metadata": {},
   "outputs": [],
   "source": [
    "# t-тест на сглаженном ctr (α=5)\n",
    "\n",
    "def get_smothed_ctr(user_likes, user_views, global_ctr, alpha):\n",
    "    smothed_ctr = (user_likes + alpha * global_ctr) / (user_views + alpha)\n",
    "    return smothed_ctr\n",
    "\n",
    "global_ctr_1 = group_A.likes.sum()/group_A.views.sum()\n",
    "global_ctr_2 = group_B.likes.sum()/group_B.views.sum()\n",
    "\n",
    "group_A['smothed_ctr'] = group_A.apply(lambda x: get_smothed_ctr(x['likes'], x['views'], global_ctr_1, 5), axis=1)\n",
    "group_B['smothed_ctr'] = group_B.apply(lambda x: get_smothed_ctr(x['likes'], x['views'], global_ctr_2, 5), axis=1)"
   ]
  },
  {
   "cell_type": "code",
   "execution_count": 12,
   "id": "69a996fc-6df0-45e6-82a7-c0ee782ba50d",
   "metadata": {},
   "outputs": [
    {
     "data": {
      "text/plain": [
       "<matplotlib.legend.Legend at 0x7f195c4ea4c0>"
      ]
     },
     "execution_count": 12,
     "metadata": {},
     "output_type": "execute_result"
    },
    {
     "data": {
      "image/png": "[encoded data removed]",
      "text/plain": [
       "<Figure size 432x288 with 1 Axes>"
      ]
     },
     "metadata": {
      "needs_background": "light"
     },
     "output_type": "display_data"
    }
   ],
   "source": [
    "sns.histplot(group_B.ctr, label='ctr')\n",
    "sns.histplot(group_B.smothed_ctr, label='smoothed_ctr')\n",
    "plt.legend()"
   ]
  },
  {
   "cell_type": "code",
   "execution_count": 22,
   "id": "723143e5-b3d1-4554-9c27-012f0afed8d0",
   "metadata": {},
   "outputs": [
    {
     "name": "stdout",
     "output_type": "stream",
     "text": [
      "p-value = 0.05166679015318526\n"
     ]
    }
   ],
   "source": [
    "_, p_value = stats.ttest_ind(group_A.smothed_ctr, group_B.smothed_ctr, equal_var=False)\n",
    "print(f'p-value = {p_value}')"
   ]
  },
  {
   "cell_type": "markdown",
   "id": "3f45e3dd-3ab2-4b27-98f7-db9351851472",
   "metadata": {},
   "source": [
    " Алгоритм сглаживания мог по-разному повлиять на подгруппы пользователей, что привело к p-value ≈ 0.051. Формально это значение не достигает стандартного уровня значимости 0.05, но крайне близкое к нему, но это не подтверждает стабильный положительный эффект на всю популяцию."
   ]
  },
  {
   "cell_type": "code",
   "execution_count": 7,
   "id": "154917b8-1777-4829-9803-6483f39ff6db",
   "metadata": {},
   "outputs": [],
   "source": [
    "# Пуассоновский бутстреп\n",
    "\n",
    "def bootstrap(likes1, views1, likes2, views2, n_bootstrap=2000):\n",
    "\n",
    "    poisson_bootstraps1 = stats.poisson(1).rvs(\n",
    "        (n_bootstrap, len(likes1))).astype(np.int64)\n",
    "\n",
    "    poisson_bootstraps2 = stats.poisson(1).rvs(\n",
    "            (n_bootstrap, len(likes2))).astype(np.int64)\n",
    "    \n",
    "    globalCTR1 = (poisson_bootstraps1*likes1).sum(axis=1)/(poisson_bootstraps1*views1).sum(axis=1)\n",
    "    \n",
    "    globalCTR2 = (poisson_bootstraps2*likes2).sum(axis=1)/(poisson_bootstraps2*views2).sum(axis=1)\n",
    "\n",
    "    return globalCTR1, globalCTR2\n",
    "\n",
    "likes1 = group_A.likes.to_numpy()\n",
    "views1 = group_A.views.to_numpy()\n",
    "likes2 = group_B.likes.to_numpy()\n",
    "views2 = group_B.views.to_numpy()\n",
    "\n",
    "ctr1, ctr2 = bootstrap(likes1, views1, likes2, views2)"
   ]
  },
  {
   "cell_type": "code",
   "execution_count": 9,
   "id": "ef752891-ade9-4b6e-a230-d50660259ac3",
   "metadata": {},
   "outputs": [
    {
     "data": {
      "text/plain": [
       "<matplotlib.legend.Legend at 0x7f195e059c10>"
      ]
     },
     "execution_count": 9,
     "metadata": {},
     "output_type": "execute_result"
    },
    {
     "data": {
      "image/png": "[encoded data removed]",
      "text/plain": [
       "<Figure size 432x288 with 1 Axes>"
      ]
     },
     "metadata": {
      "needs_background": "light"
     },
     "output_type": "display_data"
    }
   ],
   "source": [
    "sns.histplot(ctr1, label='group_A')\n",
    "sns.histplot(ctr2, label='group_B')\n",
    "plt.legend()"
   ]
  },
  {
   "cell_type": "markdown",
   "id": "e27ff68c-b232-476c-ae86-44ae0035261a",
   "metadata": {},
   "source": [
    "Глобальный CTR ниже в тестовой группе, то есть новый алгоритм рекомендации постов негативно повлиял на глобальный CTR"
   ]
  },
  {
   "cell_type": "code",
   "execution_count": 4,
   "id": "817a207b-fabe-4d1d-926c-8d3c2b422940",
   "metadata": {},
   "outputs": [],
   "source": [
    "# Бакетное преобразование\n",
    "\n",
    "q = \"\"\"\n",
    "\n",
    "SELECT exp_group, bucket,\n",
    "    sum(likes)/sum(views) as bucket_ctr,\n",
    "    quantileExact(0.9)(ctr) as ctr9\n",
    "FROM (SELECT exp_group, \n",
    "        xxHash64(user_id)%50 as bucket,\n",
    "        user_id,\n",
    "        sum(action = 'like') as likes,\n",
    "        sum(action = 'view') as views,\n",
    "        likes/views as ctr\n",
    "    FROM {db}.feed_actions \n",
    "    WHERE toDate(time) between '2025-02-21' and '2025-02-27'\n",
    "    and exp_group in (1,2)\n",
    "    GROUP BY exp_group, bucket, user_id)\n",
    "GROUP BY exp_group, bucket\n",
    "\"\"\"\n",
    "\n",
    "df = pandahouse.read_clickhouse(q, connection=connection)"
   ]
  },
  {
   "cell_type": "code",
   "execution_count": 8,
   "id": "4b3fc956-f505-4bed-acaf-fe8917df691a",
   "metadata": {},
   "outputs": [],
   "source": [
    "group_A = df[df.exp_group == 1].copy()\n",
    "group_B = df[df.exp_group == 2].copy()"
   ]
  },
  {
   "cell_type": "code",
   "execution_count": 9,
   "id": "c401c22c-6997-4ef8-a9c9-bae4cdb93062",
   "metadata": {},
   "outputs": [
    {
     "data": {
      "image/png": "[encoded data removed]",
      "text/plain": [
       "<Figure size 432x288 with 1 Axes>"
      ]
     },
     "metadata": {
      "needs_background": "light"
     },
     "output_type": "display_data"
    }
   ],
   "source": [
    "groups = sns.histplot(data = df, \n",
    "              x='bucket_ctr', \n",
    "              hue='exp_group', \n",
    "              palette = ['r', 'b'],\n",
    "              alpha=0.5,\n",
    "              kde=False)"
   ]
  },
  {
   "cell_type": "code",
   "execution_count": 6,
   "id": "f6b40f6e-bb03-4c0e-bdd4-4c92ba75c54f",
   "metadata": {},
   "outputs": [
    {
     "name": "stdout",
     "output_type": "stream",
     "text": [
      "p-value = 4.592644937473873e-07\n"
     ]
    }
   ],
   "source": [
    "#T-тест\n",
    "\n",
    "_, p_value = stats.ttest_ind(group_A.bucket_ctr, group_B.bucket_ctr, equal_var=False)\n",
    "print(f'p-value = {p_value}')"
   ]
  },
  {
   "cell_type": "code",
   "execution_count": 7,
   "id": "25f1b919-833b-413c-9643-dc5794ef43fd",
   "metadata": {},
   "outputs": [
    {
     "name": "stdout",
     "output_type": "stream",
     "text": [
      "p-value = 2.6576427804010095e-07\n"
     ]
    }
   ],
   "source": [
    "# Манна-Уитни\n",
    "\n",
    "_, p_value = stats.mannwhitneyu(group_A.bucket_ctr, group_B.bucket_ctr, alternative = 'two-sided')\n",
    "print(f'p-value = {p_value}')"
   ]
  },
  {
   "cell_type": "markdown",
   "id": "c9942bae-9fd4-4b60-8fe0-6ae8375197f8",
   "metadata": {},
   "source": [
    "Оба теста (и t-test, и Манна-Уитни) хорошо улавливают разницу между группами. T-test после бакетного преобразования сработал лучше, поскольку распределение стало больше похоже на нормальное."
   ]
  },
  {
   "cell_type": "markdown",
   "id": "a0fc2de6-5f26-4293-a5e4-af29a54f9683",
   "metadata": {},
   "source": [
    "**Вывод:** Новый алгоритм рекомендаций дал противоречивые результаты. У части пользователей CTR вырос — им нравятся похожие посты. Но у другой группы вовлечённость упала — вероятно, им быстро наскучил однотипный контент. Общий CTR в тестовой группе снизился. Это видно и по бутстреп-анализу, и по графикам. Алгоритм рискует отпугнуть часть аудитории.\n",
    "\n",
    "**Заключение:** внедрять текущую версию не стоит. Нужен доработанный алгоритм, который сочетает персонализацию с разнообразием контента. Иначе мы потеряем пользователей, которым важна новизна."
   ]
  },
  {
   "cell_type": "code",
   "execution_count": null,
   "id": "92dad2da-cfa6-4833-b867-45a2156a6c72",
   "metadata": {},
   "outputs": [],
   "source": []
  }
 ],
 "metadata": {
  "kernelspec": {
   "display_name": "Python 3 (ipykernel)",
   "language": "python",
   "name": "python3"
  },
  "language_info": {
   "codemirror_mode": {
    "name": "ipython",
    "version": 3
   },
   "file_extension": ".py",
   "mimetype": "text/x-python",
   "name": "python",
   "nbconvert_exporter": "python",
   "pygments_lexer": "ipython3",
   "version": "3.8.10"
  }
 },
 "nbformat": 4,
 "nbformat_minor": 5
}
