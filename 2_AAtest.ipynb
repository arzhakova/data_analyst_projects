{
 "cells": [
  {
   "cell_type": "markdown",
   "id": "873059f5-b8b9-422f-a1e5-b9f09a70fc3a",
   "metadata": {},
   "source": [
    "### А/А тест с бутстрапом\n",
    "\n",
    "Нужно сделать следующее:\n",
    "\n",
    "1. Берём данные АА-теста из следующего диапазона: с '2025-02-14' по '2025-02-20'\n",
    "2. Из групп 2 и 3 берём подвыборки без возвращения размером в 500 юзеров\n",
    "3. Сравниваем их t-тестом и сохраняем p-value (здесь и далее используем аргумент equal_var=False)\n",
    "4. Повторяем это 10000 раз\n",
    "\n",
    "\n",
    "Нарисовать гистограмму получившихся p-value и посчитайте долю p-value, оказавшихся ниже порога значимости в 0.05. Что мы можем сказать по этому результату?\n"
   ]
  },
  {
   "cell_type": "code",
   "execution_count": 1,
   "id": "b9d54e33-855a-4271-965b-0c5b3a73eb63",
   "metadata": {},
   "outputs": [],
   "source": [
    "import pandahouse\n",
    "\n",
    "connection = {\n",
    "    'host': 'https://clickhouse.lab.karpov.courses',\n",
    "    'password': 'dpo_python_2020',\n",
    "    'user': 'student',\n",
    "    'database': 'simulator_20250320'\n",
    "}\n",
    "\n",
    "q = \"\"\"\n",
    "SELECT exp_group,\n",
    "    user_id,\n",
    "    sum(action = 'like') as likes,\n",
    "    sum(action = 'view') as views,\n",
    "    likes/views as ctr\n",
    "FROM {db}.feed_actions\n",
    "WHERE toDate(time) between '2025-02-14' and '2025-02-20'\n",
    "    and exp_group in (2,3)\n",
    "GROUP BY exp_group, user_id\n",
    "\"\"\"\n",
    "\n",
    "df = pandahouse.read_clickhouse(q, connection=connection)\n",
    "\n",
    "group_A = df[df.exp_group == 2].copy()\n",
    "group_B = df[df.exp_group == 3].copy()\n"
   ]
  },
  {
   "cell_type": "code",
   "execution_count": 3,
   "id": "f915d482-544f-4f0c-8829-982a6c75fe13",
   "metadata": {},
   "outputs": [
    {
     "data": {
      "text/html": [
       "<div>\n",
       "<style scoped>\n",
       "    .dataframe tbody tr th:only-of-type {\n",
       "        vertical-align: middle;\n",
       "    }\n",
       "\n",
       "    .dataframe tbody tr th {\n",
       "        vertical-align: top;\n",
       "    }\n",
       "\n",
       "    .dataframe thead th {\n",
       "        text-align: right;\n",
       "    }\n",
       "</style>\n",
       "<table border=\"1\" class=\"dataframe\">\n",
       "  <thead>\n",
       "    <tr style=\"text-align: right;\">\n",
       "      <th></th>\n",
       "      <th>exp_group</th>\n",
       "      <th>user_id</th>\n",
       "      <th>likes</th>\n",
       "      <th>views</th>\n",
       "      <th>ctr</th>\n",
       "    </tr>\n",
       "  </thead>\n",
       "  <tbody>\n",
       "    <tr>\n",
       "      <th>0</th>\n",
       "      <td>3</td>\n",
       "      <td>115383</td>\n",
       "      <td>38</td>\n",
       "      <td>248</td>\n",
       "      <td>0.153226</td>\n",
       "    </tr>\n",
       "    <tr>\n",
       "      <th>1</th>\n",
       "      <td>3</td>\n",
       "      <td>10326</td>\n",
       "      <td>24</td>\n",
       "      <td>132</td>\n",
       "      <td>0.181818</td>\n",
       "    </tr>\n",
       "    <tr>\n",
       "      <th>2</th>\n",
       "      <td>3</td>\n",
       "      <td>123580</td>\n",
       "      <td>25</td>\n",
       "      <td>122</td>\n",
       "      <td>0.204918</td>\n",
       "    </tr>\n",
       "    <tr>\n",
       "      <th>3</th>\n",
       "      <td>2</td>\n",
       "      <td>131473</td>\n",
       "      <td>19</td>\n",
       "      <td>98</td>\n",
       "      <td>0.193878</td>\n",
       "    </tr>\n",
       "    <tr>\n",
       "      <th>4</th>\n",
       "      <td>2</td>\n",
       "      <td>23985</td>\n",
       "      <td>12</td>\n",
       "      <td>44</td>\n",
       "      <td>0.272727</td>\n",
       "    </tr>\n",
       "    <tr>\n",
       "      <th>...</th>\n",
       "      <td>...</td>\n",
       "      <td>...</td>\n",
       "      <td>...</td>\n",
       "      <td>...</td>\n",
       "      <td>...</td>\n",
       "    </tr>\n",
       "    <tr>\n",
       "      <th>16782</th>\n",
       "      <td>3</td>\n",
       "      <td>122008</td>\n",
       "      <td>20</td>\n",
       "      <td>123</td>\n",
       "      <td>0.162602</td>\n",
       "    </tr>\n",
       "    <tr>\n",
       "      <th>16783</th>\n",
       "      <td>2</td>\n",
       "      <td>25383</td>\n",
       "      <td>2</td>\n",
       "      <td>18</td>\n",
       "      <td>0.111111</td>\n",
       "    </tr>\n",
       "    <tr>\n",
       "      <th>16784</th>\n",
       "      <td>3</td>\n",
       "      <td>122190</td>\n",
       "      <td>15</td>\n",
       "      <td>56</td>\n",
       "      <td>0.267857</td>\n",
       "    </tr>\n",
       "    <tr>\n",
       "      <th>16785</th>\n",
       "      <td>2</td>\n",
       "      <td>108927</td>\n",
       "      <td>16</td>\n",
       "      <td>51</td>\n",
       "      <td>0.313725</td>\n",
       "    </tr>\n",
       "    <tr>\n",
       "      <th>16786</th>\n",
       "      <td>2</td>\n",
       "      <td>17310</td>\n",
       "      <td>24</td>\n",
       "      <td>75</td>\n",
       "      <td>0.320000</td>\n",
       "    </tr>\n",
       "  </tbody>\n",
       "</table>\n",
       "<p>16787 rows × 5 columns</p>\n",
       "</div>"
      ],
      "text/plain": [
       "       exp_group  user_id  likes  views       ctr\n",
       "0              3   115383     38    248  0.153226\n",
       "1              3    10326     24    132  0.181818\n",
       "2              3   123580     25    122  0.204918\n",
       "3              2   131473     19     98  0.193878\n",
       "4              2    23985     12     44  0.272727\n",
       "...          ...      ...    ...    ...       ...\n",
       "16782          3   122008     20    123  0.162602\n",
       "16783          2    25383      2     18  0.111111\n",
       "16784          3   122190     15     56  0.267857\n",
       "16785          2   108927     16     51  0.313725\n",
       "16786          2    17310     24     75  0.320000\n",
       "\n",
       "[16787 rows x 5 columns]"
      ]
     },
     "execution_count": 3,
     "metadata": {},
     "output_type": "execute_result"
    }
   ],
   "source": [
    "df"
   ]
  },
  {
   "cell_type": "code",
   "execution_count": 12,
   "id": "0d2101dc-8218-47f9-bcdb-f3dbe1eb7b19",
   "metadata": {},
   "outputs": [
    {
     "data": {
      "image/png": "[encoded data removed]",
      "text/plain": [
       "<Figure size 432x288 with 1 Axes>"
      ]
     },
     "metadata": {
      "needs_background": "light"
     },
     "output_type": "display_data"
    }
   ],
   "source": [
    "import seaborn as sns\n",
    "\n",
    "groups = sns.histplot(data = df, \n",
    "              x='ctr', \n",
    "              hue='exp_group', \n",
    "              palette = ['r', 'b'],\n",
    "              alpha=0.5,\n",
    "              kde=False)"
   ]
  },
  {
   "cell_type": "code",
   "execution_count": 15,
   "id": "9924a1a3-304e-4d0a-b662-22701df4c382",
   "metadata": {},
   "outputs": [],
   "source": [
    "from scipy import stats\n",
    "p = []\n",
    "for i in range(10000):\n",
    "    _, p_value = stats.ttest_ind(group_A.ctr.sample(n=500, replace=False),\n",
    "                                 group_B.ctr.sample(n=500, replace=False),\n",
    "                                 equal_var=False)\n",
    "    p.append(p_value)"
   ]
  },
  {
   "cell_type": "code",
   "execution_count": 17,
   "id": "8544dc05-830b-4733-b6d4-8a693b0e9809",
   "metadata": {},
   "outputs": [
    {
     "data": {
      "text/plain": [
       "<seaborn.axisgrid.FacetGrid at 0x7ff740175dc0>"
      ]
     },
     "execution_count": 17,
     "metadata": {},
     "output_type": "execute_result"
    },
    {
     "data": {
      "image/png": "[encoded data removed]",
      "text/plain": [
       "<Figure size 360x360 with 1 Axes>"
      ]
     },
     "metadata": {
      "needs_background": "light"
     },
     "output_type": "display_data"
    }
   ],
   "source": [
    "sns.displot(p)"
   ]
  },
  {
   "cell_type": "code",
   "execution_count": 19,
   "id": "c0a37c77-c425-4c41-ba91-14ca70984531",
   "metadata": {},
   "outputs": [
    {
     "data": {
      "text/plain": [
       "0.0455"
      ]
     },
     "execution_count": 19,
     "metadata": {},
     "output_type": "execute_result"
    }
   ],
   "source": [
    "import numpy as np\n",
    "sum(np.array(p) < 0.05)/10000"
   ]
  },
  {
   "cell_type": "markdown",
   "id": "1f3754a6-eebb-474f-8950-42c3c1e50af3",
   "metadata": {},
   "source": [
    "**Вывод:** Распределение получившихся p-value является примерно равномерным. Доля p-value ниже порога значимости составляет около 0.046. Это примерно столько, сколько мы ожидаем. Значит, система сплитования работает корректно."
   ]
  },
  {
   "cell_type": "code",
   "execution_count": null,
   "id": "b48ba3e5-973e-44d6-ac53-1cecec7e6b16",
   "metadata": {},
   "outputs": [],
   "source": []
  }
 ],
 "metadata": {
  "kernelspec": {
   "display_name": "Python 3 (ipykernel)",
   "language": "python",
   "name": "python3"
  },
  "language_info": {
   "codemirror_mode": {
    "name": "ipython",
    "version": 3
   },
   "file_extension": ".py",
   "mimetype": "text/x-python",
   "name": "python",
   "nbconvert_exporter": "python",
   "pygments_lexer": "ipython3",
   "version": "3.8.10"
  }
 },
 "nbformat": 4,
 "nbformat_minor": 5
}
