{
 "cells": [
  {
   "cell_type": "markdown",
   "id": "42fbbe3b-00c1-4e54-a931-cc5f1104eb4a",
   "metadata": {},
   "source": [
    "## Выбор тарифа"
   ]
  },
  {
   "cell_type": "markdown",
   "id": "9967ad22-53b9-45bb-9708-be6367f84613",
   "metadata": {},
   "source": [
    "Оператор мобильной связи «Мегалайн» выяснил: многие клиенты пользуются архивными тарифами. Они хотят построить систему, способную проанализировать поведение клиентов и предложить пользователям новый тариф: «Смарт» или «Ультра».\n",
    "\n",
    "В вашем распоряжении данные о поведении клиентов, которые уже перешли на эти тарифы. Нужно построить модель для задачи классификации, которая выберет подходящий тариф. Предобработка данных не понадобится.\n",
    "\n",
    "Постройте модель с максимально большим значением accuracy."
   ]
  },
  {
   "cell_type": "code",
   "execution_count": 32,
   "id": "975ace23-ef36-4491-9dc4-bd2e6d5a8217",
   "metadata": {},
   "outputs": [],
   "source": [
    "import pandas as pd\n",
    "from sklearn.model_selection import train_test_split\n",
    "from sklearn.tree import DecisionTreeClassifier\n",
    "from sklearn.metrics import accuracy_score\n",
    "from sklearn.ensemble import RandomForestClassifier\n",
    "from sklearn.linear_model import LogisticRegression\n",
    "from sklearn.dummy import DummyClassifier"
   ]
  },
  {
   "cell_type": "code",
   "execution_count": 6,
   "id": "5e06217e-c05f-4465-ade8-9a8fd3669a85",
   "metadata": {},
   "outputs": [],
   "source": [
    "data = pd.read_csv('users_behavior.csv')"
   ]
  },
  {
   "cell_type": "code",
   "execution_count": 12,
   "id": "422fea58-3b2c-42d3-b122-6a402a8b6d53",
   "metadata": {},
   "outputs": [
    {
     "data": {
      "text/html": [
       "<div>\n",
       "<style scoped>\n",
       "    .dataframe tbody tr th:only-of-type {\n",
       "        vertical-align: middle;\n",
       "    }\n",
       "\n",
       "    .dataframe tbody tr th {\n",
       "        vertical-align: top;\n",
       "    }\n",
       "\n",
       "    .dataframe thead th {\n",
       "        text-align: right;\n",
       "    }\n",
       "</style>\n",
       "<table border=\"1\" class=\"dataframe\">\n",
       "  <thead>\n",
       "    <tr style=\"text-align: right;\">\n",
       "      <th></th>\n",
       "      <th>calls</th>\n",
       "      <th>minutes</th>\n",
       "      <th>messages</th>\n",
       "      <th>mb_used</th>\n",
       "      <th>is_ultra</th>\n",
       "    </tr>\n",
       "  </thead>\n",
       "  <tbody>\n",
       "    <tr>\n",
       "      <th>0</th>\n",
       "      <td>40.0</td>\n",
       "      <td>311.90</td>\n",
       "      <td>83.0</td>\n",
       "      <td>19915.42</td>\n",
       "      <td>0</td>\n",
       "    </tr>\n",
       "    <tr>\n",
       "      <th>1</th>\n",
       "      <td>85.0</td>\n",
       "      <td>516.75</td>\n",
       "      <td>56.0</td>\n",
       "      <td>22696.96</td>\n",
       "      <td>0</td>\n",
       "    </tr>\n",
       "    <tr>\n",
       "      <th>2</th>\n",
       "      <td>77.0</td>\n",
       "      <td>467.66</td>\n",
       "      <td>86.0</td>\n",
       "      <td>21060.45</td>\n",
       "      <td>0</td>\n",
       "    </tr>\n",
       "    <tr>\n",
       "      <th>3</th>\n",
       "      <td>106.0</td>\n",
       "      <td>745.53</td>\n",
       "      <td>81.0</td>\n",
       "      <td>8437.39</td>\n",
       "      <td>1</td>\n",
       "    </tr>\n",
       "    <tr>\n",
       "      <th>4</th>\n",
       "      <td>66.0</td>\n",
       "      <td>418.74</td>\n",
       "      <td>1.0</td>\n",
       "      <td>14502.75</td>\n",
       "      <td>0</td>\n",
       "    </tr>\n",
       "  </tbody>\n",
       "</table>\n",
       "</div>"
      ],
      "text/plain": [
       "   calls  minutes  messages   mb_used  is_ultra\n",
       "0   40.0   311.90      83.0  19915.42         0\n",
       "1   85.0   516.75      56.0  22696.96         0\n",
       "2   77.0   467.66      86.0  21060.45         0\n",
       "3  106.0   745.53      81.0   8437.39         1\n",
       "4   66.0   418.74       1.0  14502.75         0"
      ]
     },
     "execution_count": 12,
     "metadata": {},
     "output_type": "execute_result"
    }
   ],
   "source": [
    "data.head()"
   ]
  },
  {
   "cell_type": "code",
   "execution_count": 13,
   "id": "ead94109-4089-4602-b5a5-0009f43952d9",
   "metadata": {},
   "outputs": [
    {
     "name": "stdout",
     "output_type": "stream",
     "text": [
      "Обучающая: 1928 строк\n",
      "Валидационная: 643 строк\n",
      "Тестовая: 643 строк\n"
     ]
    }
   ],
   "source": [
    "X = data.drop('is_ultra', axis=1)  # Признаки\n",
    "y = data['is_ultra']               # Целевая переменная\n",
    "\n",
    "# Первое разделение: тестовая выборка (20%)\n",
    "X_train_val, X_test, y_train_val, y_test = train_test_split(\n",
    "    X, y, test_size=0.2, random_state=42\n",
    ")\n",
    "\n",
    "# Второе разделение: обучающая (60%) и валидационная (20%)\n",
    "X_train, X_val, y_train, y_val = train_test_split(\n",
    "    X_train_val, y_train_val, test_size=0.25, random_state=42\n",
    ")\n",
    "\n",
    "# Итоговые размеры:\n",
    "print(f\"Обучающая: {X_train.shape[0]} строк\")\n",
    "print(f\"Валидационная: {X_val.shape[0]} строк\")\n",
    "print(f\"Тестовая: {X_test.shape[0]} строк\")"
   ]
  },
  {
   "cell_type": "markdown",
   "id": "d5e841cc-e7f1-475b-8143-153d31419f72",
   "metadata": {},
   "source": [
    "#### Тестирование модели дерева решений для задачи классификации с разными значениями глубины дерева и минимального числа объектов в листе"
   ]
  },
  {
   "cell_type": "code",
   "execution_count": 57,
   "id": "b6b76c62-5b47-4ffd-b6e0-32fb8857931e",
   "metadata": {},
   "outputs": [
    {
     "name": "stdout",
     "output_type": "stream",
     "text": [
      "max_depth = 9 min_leaf = 5 , accuracy  0.7962674961119751\n"
     ]
    }
   ],
   "source": [
    "best_acc = 0\n",
    "for depth in range(1, 20):  # Увеличили до 20\n",
    "    for min_samples_leaf in [1, 2, 5, 10]:  # Добавили минимальное число объектов в листе\n",
    "        model = DecisionTreeClassifier(\n",
    "            max_depth=depth,\n",
    "            min_samples_leaf=min_samples_leaf,\n",
    "            random_state=42\n",
    "        )\n",
    "        model.fit(X_train, y_train) # обучите модель на тренировочной выборке\n",
    "        acc = model.score(X_val, y_val)# посчитайте качество модели на валидационной выборке\n",
    "        if acc > best_acc:\n",
    "            best_acc = acc\n",
    "            max_depth = depth\n",
    "            min_leaf = min_samples_leaf\n",
    "        \n",
    "print(\"max_depth =\", max_depth, \"min_leaf =\", min_leaf,\", accuracy \", best_acc)"
   ]
  },
  {
   "cell_type": "markdown",
   "id": "bd5bf02b-69a2-4962-94d1-8b3b5b699d83",
   "metadata": {},
   "source": [
    "#### Тестирование модели слуйчайного леса для задачи классификации с разными значениями количества деревьев и глубины дерева"
   ]
  },
  {
   "cell_type": "code",
   "execution_count": 60,
   "id": "72021607-e12f-4afd-a30c-8278df427e36",
   "metadata": {},
   "outputs": [
    {
     "name": "stdout",
     "output_type": "stream",
     "text": [
      "n_estimators = 100 max_depth = 5 , accuracy  0.80248833592535\n"
     ]
    }
   ],
   "source": [
    "best_acc = 0\n",
    "for est in [10, 50, 100, 200]:  # Увеличили диапазон\n",
    "    for depth in [5, 10, None]:  # None — без ограничения глубины\n",
    "        model = RandomForestClassifier(\n",
    "            n_estimators=est,\n",
    "            max_depth=depth,\n",
    "            random_state=42\n",
    "        ) # обучите модель с заданным количеством деревьев\n",
    "        model.fit(X_train, y_train) # обучите модель на тренировочной выборке\n",
    "        acc = model.score(X_val, y_val)# посчитайте качество модели на валидационной выборке\n",
    "        if acc > best_acc:\n",
    "            best_acc = acc\n",
    "            n_estimators = est\n",
    "            max_depth = depth\n",
    "print(\"n_estimators =\", n_estimators,\"max_depth =\", max_depth,\", accuracy \", best_acc)"
   ]
  },
  {
   "cell_type": "markdown",
   "id": "cbeb0bc9-d01d-48a7-8091-dfd0b1da23a0",
   "metadata": {},
   "source": [
    "#### Тестирование модели логистической регрессии для задачи классификации"
   ]
  },
  {
   "cell_type": "code",
   "execution_count": 66,
   "id": "e7c21a28-b97c-473a-a93f-572eac016053",
   "metadata": {},
   "outputs": [
    {
     "name": "stderr",
     "output_type": "stream",
     "text": [
      "/Library/Frameworks/Python.framework/Versions/3.9/lib/python3.9/site-packages/sklearn/linear_model/_sag.py:348: ConvergenceWarning: The max_iter was reached which means the coef_ did not converge\n",
      "  warnings.warn(\n",
      "/Library/Frameworks/Python.framework/Versions/3.9/lib/python3.9/site-packages/sklearn/linear_model/_sag.py:348: ConvergenceWarning: The max_iter was reached which means the coef_ did not converge\n",
      "  warnings.warn(\n",
      "/Library/Frameworks/Python.framework/Versions/3.9/lib/python3.9/site-packages/sklearn/linear_model/_sag.py:348: ConvergenceWarning: The max_iter was reached which means the coef_ did not converge\n",
      "  warnings.warn(\n"
     ]
    },
    {
     "name": "stdout",
     "output_type": "stream",
     "text": [
      "inv_reg_strength = 0.01 solver = lbfgs , accuracy  0.744945567651633\n"
     ]
    },
    {
     "name": "stderr",
     "output_type": "stream",
     "text": [
      "/Library/Frameworks/Python.framework/Versions/3.9/lib/python3.9/site-packages/sklearn/linear_model/_sag.py:348: ConvergenceWarning: The max_iter was reached which means the coef_ did not converge\n",
      "  warnings.warn(\n"
     ]
    }
   ],
   "source": [
    "best_acc = 0\n",
    "for C in [0.01, 0.1, 1, 10]:  # Сила регуляризации (меньше C → сильнее регуляризация)\n",
    "    for solver in ['lbfgs', 'liblinear', 'saga']:\n",
    "        model = LogisticRegression(\n",
    "            C=C,\n",
    "            solver=solver,\n",
    "            max_iter=1000,\n",
    "            random_state=42\n",
    "        )\n",
    "        model.fit(X_train, y_train)\n",
    "        acc = model.score(X_val, y_val)# посчитайте качество модели на валидационной выборке\n",
    "        if acc > best_acc:\n",
    "            best_acc = acc\n",
    "            reg = C\n",
    "            solv = solver\n",
    "print(\"inv_reg_strength =\", reg,\"solver =\", solv,\", accuracy \", best_acc)"
   ]
  },
  {
   "cell_type": "markdown",
   "id": "3f5a98cd-4be1-4dfe-affb-e0ead5111072",
   "metadata": {},
   "source": [
    "#### Проверка моделей на вменяемость. Бейзлайн модели."
   ]
  },
  {
   "cell_type": "code",
   "execution_count": 64,
   "id": "5d1c0656-cdbd-462c-afe9-7c281d831d7c",
   "metadata": {},
   "outputs": [
    {
     "name": "stdout",
     "output_type": "stream",
     "text": [
      "Accuracy случайного угадывания: 0.48055987558320373\n"
     ]
    }
   ],
   "source": [
    "dummy = DummyClassifier(strategy='uniform').fit(X_train, y_train)\n",
    "print(\"Accuracy случайного угадывания:\", dummy.score(X_test, y_test))"
   ]
  },
  {
   "cell_type": "code",
   "execution_count": 65,
   "id": "be28023b-28d3-4bc8-9e35-6ffc88b22888",
   "metadata": {},
   "outputs": [
    {
     "name": "stdout",
     "output_type": "stream",
     "text": [
      "Accuracy константного предсказания: 0.7076205287713841\n"
     ]
    }
   ],
   "source": [
    "dummy = DummyClassifier(strategy='most_frequent').fit(X_train, y_train)\n",
    "print(\"Accuracy константного предсказания:\", dummy.score(X_test, y_test))"
   ]
  },
  {
   "cell_type": "markdown",
   "id": "300ad125-db5b-4080-ad72-63579ee36cc8",
   "metadata": {},
   "source": [
    "#### Проверка моделей на тестовой выборке"
   ]
  },
  {
   "cell_type": "code",
   "execution_count": 62,
   "id": "31d4bcf8-cd31-451e-b7ab-9df6a529d2f5",
   "metadata": {},
   "outputs": [
    {
     "name": "stdout",
     "output_type": "stream",
     "text": [
      "Accuracy модели дерева решений: 0.7993779160186625\n"
     ]
    }
   ],
   "source": [
    "# Дерево решений\n",
    "model = DecisionTreeClassifier(\n",
    "            max_depth=9,\n",
    "            min_samples_leaf=5,\n",
    "            random_state=42\n",
    "        )\n",
    "model.fit(X_train, y_train)\n",
    "print(\"Accuracy модели дерева решений:\", model.score(X_test, y_test))"
   ]
  },
  {
   "cell_type": "code",
   "execution_count": 63,
   "id": "9c21ba8e-04f6-4abb-8188-72e3a33dc875",
   "metadata": {},
   "outputs": [
    {
     "name": "stdout",
     "output_type": "stream",
     "text": [
      "Accuracy модели случайного леса: 0.8087091757387247\n"
     ]
    }
   ],
   "source": [
    "# Случайный лес\n",
    "model = RandomForestClassifier(\n",
    "            n_estimators=100,\n",
    "             max_depth=5,\n",
    "            random_state=42\n",
    "        )\n",
    "model.fit(X_train, y_train)\n",
    "print(\"Accuracy модели случайного леса:\", model.score(X_test, y_test))"
   ]
  },
  {
   "cell_type": "code",
   "execution_count": 51,
   "id": "4a88696d-5e63-44a6-a413-7e797bf844b8",
   "metadata": {},
   "outputs": [
    {
     "name": "stdout",
     "output_type": "stream",
     "text": [
      "Accuracy модели логистической регресии: 0.7589424572317263\n"
     ]
    }
   ],
   "source": [
    "# Логистическая регрессия\n",
    "model = LogisticRegression(\n",
    "            C=0.01,\n",
    "            solver='lbfgs',\n",
    "            max_iter=1000,\n",
    "            random_state=42\n",
    "        )\n",
    "model.fit(X_train, y_train)\n",
    "print(\"Accuracy модели логистической регресии:\", model.score(X_test, y_test))"
   ]
  },
  {
   "cell_type": "markdown",
   "id": "5123e312-d7f2-471e-85ab-37cf30df67c0",
   "metadata": {},
   "source": [
    "#### Выводы:\n",
    "* Данные нелинейные. Random Forest и Decision Tree показали лучший результат, потому что умеют работать со сложными зависимостями. Logistic Regression — линейная модель, и её точность ограничена.\n",
    "* Random Forest — лучший выбор для этих данных. accuracy на тесте 0.809 — это хороший результат.\n",
    "* Decision Tree тоже неплох, accuracy близка к Random Forest, но случайный лес устойчивее к переобучению. Decision Tree может переобучаться на шумных данных."
   ]
  },
  {
   "cell_type": "code",
   "execution_count": null,
   "id": "d28ef238-8e0e-45de-be7c-6b1ae028ef69",
   "metadata": {},
   "outputs": [],
   "source": []
  },
  {
   "cell_type": "code",
   "execution_count": null,
   "id": "c582b9ab-f24d-4e08-b486-6f110d0e7bc0",
   "metadata": {},
   "outputs": [],
   "source": []
  },
  {
   "cell_type": "code",
   "execution_count": null,
   "id": "f7762319-adf6-423d-b38f-0d5ff5849c2a",
   "metadata": {},
   "outputs": [],
   "source": []
  }
 ],
 "metadata": {
  "kernelspec": {
   "display_name": "Python 3 (ipykernel)",
   "language": "python",
   "name": "python3"
  },
  "language_info": {
   "codemirror_mode": {
    "name": "ipython",
    "version": 3
   },
   "file_extension": ".py",
   "mimetype": "text/x-python",
   "name": "python",
   "nbconvert_exporter": "python",
   "pygments_lexer": "ipython3",
   "version": "3.9.13"
  }
 },
 "nbformat": 4,
 "nbformat_minor": 5
}
